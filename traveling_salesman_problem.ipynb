{
 "cells": [
  {
   "attachments": {},
   "cell_type": "markdown",
   "id": "3025ffb7",
   "metadata": {},
   "source": [
    "# Evolutionary Computing Practical Session 1 - TSP Solution"
   ]
  },
  {
   "attachments": {},
   "cell_type": "markdown",
   "id": "7226d85c",
   "metadata": {},
   "source": [
    "### Author: Buelent Uendes\n",
    "\n",
    "The goal of this notebook is to make yourself a bit more familiar with how to solve specific 'simple' problems using evolutionary algorithms. Do not panic if you do not fully understand each of the algorithms, as some of them will be dealt with later during the course. This notebook should just give you more insight into how on can code up simple evolutionary algorithms to solve certain problems. Getting familiar with the core concepts will also help you with the assignments in the course.\n",
    "\n",
    "This notebook will implement some parts of the lectures slides that are based on Chapter 1 - 4. \n",
    "\n",
    "\n",
    "Goal:\n",
    "\n",
    "You have run a correct EA if you are able to get the fitness function below 13.000 km traveled.\n",
    "\n",
    "Try to see if your algorithm is able to find such a solution after the amount of generations that is given.\n",
    "\n",
    "We want to give you the opportunity to solve this problem and submit it through Canvas before September 15, 23:59. If you do so, you will receive feedback on your implementation. This is optional and it will not give you a grade. It is just for practicing.\n",
    "\n",
    "Good luck and have fun!"
   ]
  },
  {
   "attachments": {},
   "cell_type": "markdown",
   "id": "2ac6889e",
   "metadata": {},
   "source": [
    "As always, we need to first import several packages:"
   ]
  },
  {
   "cell_type": "code",
   "execution_count": 12,
   "id": "1f80d72c",
   "metadata": {},
   "outputs": [],
   "source": [
    "import numpy as np\n",
    "from numpy.random import randint\n",
    "from numpy.random import rand\n",
    "import random\n",
    "import matplotlib.pyplot as plt\n",
    "from typing import List, Tuple\n",
    "\n",
    "np.random.seed(5)"
   ]
  },
  {
   "attachments": {},
   "cell_type": "markdown",
   "id": "5a30fd5a",
   "metadata": {},
   "source": [
    "**Instructions:**\n",
    "\n",
    "In the notebook, you will see a couple of ToDos with some instructions. Try your best to work through them and to complete the notebook. In case you run into problems, do not hesitate to ask us or you can check out the solution notebook which is also uploaded on Canvas."
   ]
  },
  {
   "attachments": {},
   "cell_type": "markdown",
   "id": "15741398",
   "metadata": {},
   "source": [
    "## Traveler's salesman problem "
   ]
  },
  {
   "attachments": {},
   "cell_type": "markdown",
   "id": "284a5d11",
   "metadata": {},
   "source": [
    "In this notebook, we will see how we can use EA to solve the famous traveler salesmen problem. In this problem, a salesman person is encountered with the task to visit all cities in the shortest way and returne home. Also, we will assume that the traveler salesman has a fixed starting point (that can be chosen). Hence, there are two constraints:\n",
    "\n",
    "- Each city needs to be visited.\n",
    "- The traveler needs to return home.\n",
    "\n",
    "For sake of simplicity, let's assume that we want to find the shortest route for 1 cities in Europe. In particular, we will use the following cities, with the following encoding:\n",
    "\n",
    "- 0: Amsterdam\n",
    "- 1: Athens\n",
    "- 2: Berlin\n",
    "- 3: Brussels\n",
    "- 4: Copenhagen\n",
    "- 5: Edinburgh\n",
    "- 6: Lisbon\n",
    "- 7: London\n",
    "- 8: Madrid\n",
    "- 9: Paris\n",
    "\n",
    "if you want to have a example video, please view: https://www.youtube.com/watch?v=1pmBjIZ20pE&ab_channel=AlphaOpt"
   ]
  },
  {
   "attachments": {},
   "cell_type": "markdown",
   "id": "b3a473a7",
   "metadata": {},
   "source": [
    "One way to represent the distances between the cities is to use a so-called adjancey matrix, where $A_{ij}$ denotes the distance from city $i$ to city $j$. The driving distances for the above-mentioned cities  (in km) can be found can be found [here](https://www.engineeringtoolbox.com/driving-distances-d_1029.html). Given this, we can initialize the adjacency matrix:"
   ]
  },
  {
   "cell_type": "code",
   "execution_count": 13,
   "id": "3d7310c7",
   "metadata": {},
   "outputs": [],
   "source": [
    "adjacency_mat = np.asarray(\n",
    "    #Remember that we use the encoding above, i.e. 0 refers to Amsterdam and 10 to Paris!\n",
    "    [\n",
    "        [0, 3082, 649, 209, 904, 1180, 2300, 494, 1782, 515], # Distance Amsterdam to the other cities\n",
    "        [3082, 0, 2552, 3021, 3414, 3768, 4578, 3099, 3940, 3140], # Distance Athens to the other cities\n",
    "        [649, 2552, 0, 782, 743, 1727, 3165, 1059, 2527, 1094], # Distance Berlin to the other cities\n",
    "        [209, 3021, 782, 0, 1035, 996, 2080, 328, 1562, 294], # Distance Brussels to the other cities\n",
    "        [904, 3414, 743, 1035, 0, 1864, 3115, 1196, 2597, 1329], # Distance Copenhagen to the other cities\n",
    "        [1180, 3768, 1727, 996, 1864, 0, 2879, 656, 2372, 1082], # Distance Edinburgh to the other cities \n",
    "        [2300, 4578, 3165, 2080, 3115, 2879, 0, 2210, 638, 1786], # Distance Lisbon to the other cities\n",
    "        [494, 3099, 1059, 328, 1196, 656, 2210, 0, 1704, 414], # Distance London to the other cities\n",
    "        [1782, 3940, 2527, 1562, 2597, 2372, 638, 1704, 0, 1268], # Distance Madrid to the other cities\n",
    "        [515, 3140, 1094, 294, 1329, 1082, 1786, 414, 1268, 0] # Distance Paris to the other cities\n",
    "    ]\n",
    ")"
   ]
  },
  {
   "attachments": {},
   "cell_type": "markdown",
   "id": "849d8325",
   "metadata": {},
   "source": [
    "An important property of the adjacency matrix is that it is symmetric, hence we will check this first:"
   ]
  },
  {
   "cell_type": "code",
   "execution_count": 14,
   "id": "c5540601",
   "metadata": {},
   "outputs": [
    {
     "data": {
      "text/plain": [
       "True"
      ]
     },
     "execution_count": 14,
     "metadata": {},
     "output_type": "execute_result"
    }
   ],
   "source": [
    "(adjacency_mat==adjacency_mat.T).all()"
   ]
  },
  {
   "attachments": {},
   "cell_type": "markdown",
   "id": "e6556cea",
   "metadata": {},
   "source": [
    "For solving this problem, we will need again the following key concepts:\n",
    "\n",
    "- Fitness function\n",
    "- Variation operators (recombination and mutation)\n",
    "- Seletion operator"
   ]
  },
  {
   "attachments": {},
   "cell_type": "markdown",
   "id": "82babcee",
   "metadata": {},
   "source": [
    "For the fitness function, it is intuitive to take the total number of kilometers traveled as a measure of fitness. The lower the total number of kilometers covered for a given route, the better."
   ]
  },
  {
   "cell_type": "code",
   "execution_count": 15,
   "id": "f4a52a28",
   "metadata": {},
   "outputs": [],
   "source": [
    "def compute_distance(route: list, adjacency_mat: np.ndarray) -> int:\n",
    "    total_distance = 0\n",
    "    \n",
    "    for i in range(len(route)-1):\n",
    "        current_city = route[i]\n",
    "        next_city = route[i+1]\n",
    "        total_distance += adjacency_mat[current_city, next_city]\n",
    "    \n",
    "    # Add distance from last city back to the starting city\n",
    "    total_distance += adjacency_mat[route[-1], route[0]]\n",
    "        \n",
    "    return total_distance   "
   ]
  },
  {
   "cell_type": "code",
   "execution_count": 16,
   "id": "1e6173a0",
   "metadata": {},
   "outputs": [],
   "source": [
    "def fittest_solution_TSP(fitness_function: callable, generation, adjancency_mat) -> tuple:\n",
    "    '''\n",
    "    This function calculates the fitness values of all individuals of a generation. \n",
    "    It then returns the best fitness value and the corresponding individual.\n",
    "    '''\n",
    "    \n",
    "    # Calculate the fitness values for all individuals in the generation\n",
    "    fitness_values = [fitness_function(individual, adjacency_mat) for individual in generation]\n",
    "    \n",
    "    # Find the index of the individual with the best fitness value (shortest km)\n",
    "    best_index = fitness_values.index(min(fitness_values))\n",
    "    \n",
    "    # Get the best fitness value and the corresponding individual\n",
    "    best_fitness = fitness_values[best_index]\n",
    "    best_individual = generation[best_index]\n",
    "    \n",
    "    return best_fitness, best_individual"
   ]
  },
  {
   "attachments": {},
   "cell_type": "markdown",
   "id": "28a05a1c",
   "metadata": {},
   "source": [
    "Having defined the fitness function, we need of course a function to initialize our generation of solutions."
   ]
  },
  {
   "cell_type": "code",
   "execution_count": 17,
   "id": "423f2bee",
   "metadata": {},
   "outputs": [],
   "source": [
    "def initialize_population(n_population: int, city_list: list, start_city: int = None,\n",
    "                          fixed_start = True, round_trip = True) -> list:\n",
    "    '''This returns a randomly initialized list of individual solutions of size n_population.'''\n",
    "    \n",
    "    population = []\n",
    "    city_list_adj = city_list.copy()\n",
    "    \n",
    "    if fixed_start:\n",
    "        city_list_adj.remove(start_city)\n",
    "        for _ in range(n_population):\n",
    "            individual = random.sample(city_list_adj, len(city_list_adj))\n",
    "            #Add the start city to the beginning\n",
    "            individual = [start_city] + individual\n",
    "            \n",
    "            if round_trip:\n",
    "                #Given the round trip we need to add the start city to the end\n",
    "                individual = individual + [start_city] \n",
    "        \n",
    "            population.append(individual)\n",
    "    else:\n",
    "        for _ in range(n_population):\n",
    "            population.append(random.sample(city_list, len(city_list)))\n",
    "        \n",
    "    return population"
   ]
  },
  {
   "attachments": {},
   "cell_type": "markdown",
   "id": "aa0cd96e",
   "metadata": {},
   "source": [
    "Given that we defined the fitness function and the initialization of the algorithm, we need to define the variational operators, i.e. crossover and mutation. To recall, for permutation problems, one can distinguish problems for which the order is important (production problems) or which elements occur next to each other (adjacency). In our TSP problem, it is important which element occur next to each other, i.e. adjacency.\n",
    "\n",
    "Regarding the mutation operator, one difference to the SGA as discussed in the previous notebook is that the mutation operator is applied to the whole string."
   ]
  },
  {
   "attachments": {},
   "cell_type": "markdown",
   "id": "dd51be9f",
   "metadata": {},
   "source": [
    "### Mutation operator:\n",
    "\n",
    "Reflects the probability that mutation is applied to the whole string, instead of a single position! We can choose from several mutation operators:\n",
    "\n",
    "- swap operator\n",
    "- insert operator\n",
    "- scramble operator\n",
    "- inversion operator\n",
    "\n",
    "As discussed in the textbook, the inversion of a randomly chosen substring is thus the smallest change that can be made to an adjacency-based problem. For this reason, we will implement this type of mutation operator."
   ]
  },
  {
   "cell_type": "code",
   "execution_count": 18,
   "id": "09fa9497",
   "metadata": {},
   "outputs": [],
   "source": [
    "def inversion_mutation(x:list, p_mutation:float, fixed_start = True, fixed_end = True) -> list:\n",
    "    '''This applies the inverse mutation operator to a list and returns the mutated list.'''\n",
    "    \n",
    "    if np.random.uniform() > p_mutation:\n",
    "        return x\n",
    "    \n",
    "    else:\n",
    "        index_list = np.arange(0, len(x)).tolist() #create a list of index to sample from\n",
    "    \n",
    "        if fixed_start:\n",
    "            index_list = index_list[1:] ##Remove the first index 0 from the list\n",
    "            # index_list.remove(0) #Remove the first index 0 from the list\n",
    "    \n",
    "        if fixed_end:\n",
    "            index_list = index_list[:-1] #Remove the last index from the list\n",
    "            # index_list.remove(len(x)-1) #Remove the last index from the list\n",
    "    \n",
    "        #Sample two integers from the index list\n",
    "    \n",
    "        a, b = random.sample(index_list, 2) \n",
    "    \n",
    "        #Sort them to make it clear which is the lower splitting point and which one is upper\n",
    "        if a > b:\n",
    "            lower = b\n",
    "            upper = a\n",
    "        else:\n",
    "            lower = a\n",
    "            upper = b\n",
    "        \n",
    "        #Pick the part of the list that will be inversed\n",
    "    \n",
    "        # Increase the upper pointer by 1 as python does not include the upper limit\n",
    "    \n",
    "        upper += 1\n",
    "        selected_slice = x[lower:upper] \n",
    "    \n",
    "        #Inverse the selected slice\n",
    "        inversed_slice = [i for i in reversed(selected_slice)]\n",
    "        \n",
    "\n",
    "        #Create the mutated individual\n",
    "        x_mutated = x[:lower] + inversed_slice + x[upper:]\n",
    "        \n",
    "        #Implement some assertion tests for checking if the mutation goes as expected\n",
    "        assert (x_mutated[0] == x[0] & x_mutated[-1] == x[-1]), 'First start route and last route do not match up' \n",
    "        assert (np.sum([i==0 for i in x_mutated]) == 2), 'The start and end city does not match up!'\n",
    "        assert len(x_mutated) == len(x), 'The length of the chromosomes differ'\n",
    "        \n",
    "    return x_mutated"
   ]
  },
  {
   "attachments": {},
   "cell_type": "markdown",
   "id": "e8e3aa7f",
   "metadata": {},
   "source": [
    "Having completed the mutation operator, we can move on to define the cross-over operator. Here, we will implement the partially mapped cross-over operator as discussed in the textbook on page 70. "
   ]
  },
  {
   "cell_type": "code",
   "execution_count": 19,
   "id": "2f3574de",
   "metadata": {},
   "outputs": [],
   "source": [
    "def PMX_algorithm(parent_1, parent_2, lower, upper) -> list:\n",
    "    '''\n",
    "    This function applies the PMX algorith as discussed in the textbook by Eiben and Smith (2015). \n",
    "    It returns a list which corresponds to a solution that has undergone the crossover operation.\n",
    "    '''\n",
    "    \n",
    "    #Initialize child_1, -1 as marker for elements that have not been filled in yet\n",
    "    child = np.repeat(-1, len(parent_1)).tolist()\n",
    "        \n",
    "    #Now implement the algorithm\n",
    "    child[lower:upper] = parent_1[lower:upper]\n",
    "        \n",
    "    #print(f'this is the step 1 child {child}')\n",
    "    for index, element in enumerate(parent_2[lower:upper]):\n",
    "        if element not in parent_1[lower:upper]:\n",
    "            element_to_be_replaced = parent_1[lower:upper][index] \n",
    "            while element_to_be_replaced in parent_2[lower:upper]:\n",
    "                new_index = parent_2.index(element_to_be_replaced)\n",
    "                element_to_be_replaced = parent_1[new_index]\n",
    "            index_to_fill_new_element = parent_2.index(element_to_be_replaced)\n",
    "            child[index_to_fill_new_element] = element\n",
    "                \n",
    "    #Now fill the elements that have not been filled:\n",
    "    for index, element in enumerate(child):\n",
    "        if element == -1:\n",
    "            child[index] = parent_2[index]        \n",
    "    return child"
   ]
  },
  {
   "cell_type": "code",
   "execution_count": 20,
   "id": "4fb2105b",
   "metadata": {},
   "outputs": [],
   "source": [
    "def partially_mapped_crossover(parent_1: list, parent_2: list, p_crossover:float,\n",
    "                               fixed_start = True, fixed_end = True) -> tuple:\n",
    "    '''\n",
    "    This function applies the PMX operation on two parents, p1 and p2 respectively and returns two children.\n",
    "    '''\n",
    "    \n",
    "    if np.random.uniform() > p_crossover:\n",
    "        #Do not perform crossover\n",
    "        return parent_1, parent_2\n",
    "    \n",
    "    else:\n",
    "        # Generate random indices for crossover\n",
    "        lower = np.random.randint(0, len(parent_1))\n",
    "        upper = np.random.randint(lower + 1, len(parent_1) + 1)  # Ensure upper is at least one greater than lower\n",
    "\n",
    "        if fixed_start:\n",
    "            lower = 0\n",
    "\n",
    "        if fixed_end:\n",
    "            upper = len(parent_1)\n",
    "        \n",
    "        child_1 = PMX_algorithm(parent_1, parent_2, lower, upper)\n",
    "        child_2 = PMX_algorithm(parent_2, parent_1, lower, upper)\n",
    "        \n",
    "        return child_1, child_2         "
   ]
  },
  {
   "attachments": {},
   "cell_type": "markdown",
   "id": "cd557640",
   "metadata": {},
   "source": [
    "Having implemented the function to initalize our population, the fitness function as well as the variational operators, parent selection as well as survival selection is left. To prevent the notebook to get to long, we will re-use the tournament selection as well as implement a generational survial mechanism, i.e. all children replace their parents."
   ]
  },
  {
   "cell_type": "code",
   "execution_count": 21,
   "id": "7eda976e",
   "metadata": {},
   "outputs": [],
   "source": [
    "def tournament_selection_TSP(generation: list, \n",
    "                             fitness_function: callable, adjacency_mat: np.ndarray, k: int) -> int:\n",
    "    '''\n",
    "    Implements the tournament selection algorithm. \n",
    "    It draws randomly with replacement k individuals and returns the index of the fittest individual.\n",
    "    '''\n",
    "    # Choose a random individual and score it\n",
    "    current_winner = np.random.randint(len(generation))\n",
    "    current_winner_fitness = fitness_function(generation[current_winner], adjacency_mat)\n",
    "\n",
    "    # Get the score which is the one to beat!\n",
    "    for _ in range(k - 1):\n",
    "        # Randomly select another individual\n",
    "        candidate = np.random.randint(len(generation))\n",
    "        candidate_fitness = fitness_function(generation[candidate], adjacency_mat)\n",
    "\n",
    "        # Compare the fitness scores\n",
    "        if candidate_fitness < current_winner_fitness:\n",
    "            current_winner = candidate\n",
    "            current_winner_fitness = candidate_fitness\n",
    "\n",
    "    return current_winner"
   ]
  },
  {
   "attachments": {},
   "cell_type": "markdown",
   "id": "3ce2400a",
   "metadata": {},
   "source": [
    "Lastly, we can run the experiment to see if we can find a suitable route for our travels through Europe!"
   ]
  },
  {
   "attachments": {},
   "cell_type": "markdown",
   "id": "2c20ba6e",
   "metadata": {},
   "source": [
    "## Run the simulation: TSP problem "
   ]
  },
  {
   "cell_type": "code",
   "execution_count": 22,
   "id": "2f9d6647",
   "metadata": {},
   "outputs": [
    {
     "name": "stdout",
     "output_type": "stream",
     "text": [
      "The current best solution in the initial generation is 14867 km and the route is [0, 5, 2, 1, 4, 3, 7, 6, 8, 9, 0]\n",
      "The current best population in generation 25 is 14254 km and the route is [0, 5, 4, 2, 1, 3, 6, 8, 9, 7, 0]\n",
      "The current best population in generation 50 is 13744 km and the route is [0, 2, 1, 4, 5, 7, 9, 8, 6, 3, 0]\n",
      "The current best population in generation 75 is 13506 km and the route is [0, 1, 2, 4, 5, 7, 9, 8, 6, 3, 0]\n",
      "The current best population in generation 100 is 13506 km and the route is [0, 1, 2, 4, 5, 7, 9, 8, 6, 3, 0]\n",
      "The current best population in generation 125 is 13506 km and the route is [0, 1, 2, 4, 5, 7, 9, 8, 6, 3, 0]\n",
      "The current best population in generation 150 is 13231 km and the route is [0, 4, 2, 1, 7, 5, 9, 8, 6, 3, 0]\n",
      "The current best population in generation 175 is 12838 km and the route is [0, 4, 2, 1, 8, 6, 9, 5, 7, 3, 0]\n",
      "The current best population in generation 200 is 12838 km and the route is [0, 4, 2, 1, 8, 6, 9, 5, 7, 3, 0]\n",
      "The current best population in generation 225 is 12838 km and the route is [0, 4, 2, 1, 8, 6, 9, 5, 7, 3, 0]\n",
      "The current best population in generation 250 is 12838 km and the route is [0, 4, 2, 1, 8, 6, 9, 5, 7, 3, 0]\n",
      "The current best population in generation 275 is 12838 km and the route is [0, 4, 2, 1, 8, 6, 9, 5, 7, 3, 0]\n",
      "The current best population in generation 300 is 12838 km and the route is [0, 4, 2, 1, 8, 6, 9, 5, 7, 3, 0]\n",
      "The current best population in generation 325 is 12838 km and the route is [0, 4, 2, 1, 8, 6, 9, 5, 7, 3, 0]\n",
      "The current best population in generation 350 is 12838 km and the route is [0, 4, 2, 1, 8, 6, 9, 5, 7, 3, 0]\n",
      "The current best population in generation 375 is 12838 km and the route is [0, 4, 2, 1, 8, 6, 9, 5, 7, 3, 0]\n",
      "The current best population in generation 400 is 12838 km and the route is [0, 4, 2, 1, 8, 6, 9, 5, 7, 3, 0]\n",
      "The current best population in generation 425 is 12838 km and the route is [0, 4, 2, 1, 8, 6, 9, 5, 7, 3, 0]\n",
      "The current best population in generation 450 is 12838 km and the route is [0, 4, 2, 1, 8, 6, 9, 5, 7, 3, 0]\n",
      "The current best population in generation 475 is 12838 km and the route is [0, 4, 2, 1, 8, 6, 9, 5, 7, 3, 0]\n",
      "The current best population in generation 500 is 12838 km and the route is [0, 4, 2, 1, 8, 6, 9, 5, 7, 3, 0]\n",
      "\n",
      "-----Final tour:----\n",
      "\n",
      "You should start/end in Ams\n",
      "Then you should go to Copenhagen\n",
      "Then you should go to Berlin\n",
      "Then you should go to Athens\n",
      "Then you should go to Madrid\n",
      "Then you should go to Lisbon\n",
      "Then you should go to Paris\n",
      "Then you should go to Edinburg\n",
      "Then you should go to London\n",
      "Then you should go to Brussels\n",
      "You should start/end in Ams\n"
     ]
    }
   ],
   "source": [
    "#Now we can re-run the experiment from above, this time using tournament selection:\n",
    "\n",
    "#Define the hyperparameters, \n",
    "#following the recommendations presented in the textbook\n",
    "#Eiben, A.E., Smith, J.E., Introduction to Evolutionary Computing., Springer, 2015, 2nd edition, page 100\n",
    "\n",
    "#Define population size \n",
    "n_population = 10\n",
    "\n",
    "#Define mutation rate\n",
    "p_mutation = 0.10\n",
    "\n",
    "#Crossover probability\n",
    "p_crossover = 0.6\n",
    "\n",
    "#Number of iterations\n",
    "n_iter = 500\n",
    "\n",
    "#Set the seed for reproducibility\n",
    "\n",
    "np.random.seed(5)\n",
    "\n",
    "#Tournament size\n",
    "k = 3\n",
    "\n",
    "#City list, see the index from above\n",
    "# 0: Amsterdam, 1: Athens, 2: Berlin, 3: Brussels, \n",
    "#4: Copenhagen, 5: Edinburgh, 6: Lisbon, 7: London, 8: Madrid, 9: Paris\n",
    "\n",
    "city_list = np.arange(0,10).tolist()\n",
    "\n",
    "# Adjacency mat\n",
    "adjacency_mat = np.asarray(\n",
    "    #Remember that we use the encoding above, i.e. 1 refers to Amsterdam and 10 to Paris!\n",
    "    [\n",
    "        [0, 3082, 649, 209, 904, 1180, 2300, 494, 1782, 515], # Distance Amsterdam to the other cities\n",
    "        [3082, 0, 2552, 3021, 3414, 3768, 4578, 3099, 3940, 3140], # Distance Athens to the other cities\n",
    "        [649, 2552, 0, 782, 743, 1727, 3165, 1059, 2527, 1094], # Distance Berlin to the other cities\n",
    "        [209, 3021, 782, 0, 1035, 996, 2080, 328, 1562, 294], # Distance Brussels to the other cities\n",
    "        [904, 3414, 743, 1035, 0, 1864, 3115, 1196, 2597, 1329], # Distance Copenhagen to the other cities\n",
    "        [1180, 3768, 1727, 996, 1864, 0, 2879, 656, 2372, 1082], # Distance Edinburgh to the other cities \n",
    "        [2300, 4578, 3165, 2080, 3115, 2879, 0, 2210, 638, 1786], # Distance Lisbon to the other cities\n",
    "        [494, 3099, 1059, 328, 1196, 656, 2210, 0, 1704, 414], # Distance London to the other cities\n",
    "        [1782, 3940, 2527, 1562, 2597, 2372, 638, 1704, 0, 1268], # Distance Madrid to the other cities\n",
    "        [515, 3140, 1094, 294, 1329, 1082, 1786, 414, 1268, 0] # Distance Paris to the other cities\n",
    "    ]\n",
    "\n",
    ")\n",
    "\n",
    "#Initialize the number of children\n",
    "number_of_children = 2\n",
    "\n",
    "#Initiliaze the generation\n",
    "generation = initialize_population(n_population, city_list, start_city=0)\n",
    "\n",
    "#Compute the current best fitness\n",
    "best = fittest_solution_TSP(compute_distance, generation, adjacency_mat)\n",
    "print('The current best solution in the initial generation is {0} km and the route is {1}'.format(best[0], best[1]))\n",
    "\n",
    "for i in range(1, n_iter+1):\n",
    "    \n",
    "    #Initialize the list of new generation\n",
    "    new_generation = []\n",
    "\n",
    "    #We loop over the number of parent pairs we need to get\n",
    "    for j in range(int(n_population/number_of_children)):\n",
    "        \n",
    "        mating_pool = []\n",
    "        for child in range(number_of_children):\n",
    "            \n",
    "            mate = tournament_selection_TSP(generation, compute_distance, adjacency_mat, k)\n",
    "            mating_pool.append(mate)\n",
    "            \n",
    "        #Cross-over\n",
    "                    \n",
    "        child_1, child_2 = partially_mapped_crossover(generation[mating_pool[0]], generation[mating_pool[1]], \n",
    "                                                      p_crossover, fixed_start = True, fixed_end = True)\n",
    "             \n",
    "        #Mutation\n",
    "        \n",
    "        child_1 = inversion_mutation(child_1, p_mutation, fixed_start = True, fixed_end = True)\n",
    "        child_2 = inversion_mutation(child_2, p_mutation, fixed_start = True, fixed_end = True)\n",
    "        \n",
    "        #Survival selection is here generational, hence all children replace their parents\n",
    "        \n",
    "        new_generation.append(child_1)\n",
    "        new_generation.append(child_2)\n",
    "            \n",
    "    generation = new_generation\n",
    "    #Calculate the best solution and replace the current_best\n",
    "    \n",
    "    best_generation = fittest_solution_TSP(compute_distance, generation, adjacency_mat)\n",
    "    \n",
    "    if best_generation[0] < best[0]:\n",
    "        best = best_generation\n",
    "        \n",
    "    if i % 25 == 0:\n",
    "        print('The current best population in generation {0} is {1} km and the route is {2}'.format(i, best[0], best[1]))\n",
    "                   \n",
    "print('\\n-----Final tour:----\\n')\n",
    "#Print out the result:\n",
    "Decoding = {0: 'Ams', \n",
    "                1: 'Athens',\n",
    "                2: 'Berlin',\n",
    "                3: 'Brussels',\n",
    "                4: 'Copenhagen',\n",
    "                5: 'Edinburg',\n",
    "                6: 'Lisbon',\n",
    "                7: 'London',\n",
    "                8: 'Madrid',\n",
    "                9: 'Paris'}\n",
    "    \n",
    "    \n",
    "for city in best[1]:\n",
    "    if city == 0:\n",
    "        print(f'You should start/end in {Decoding[0]}')\n",
    "    else:\n",
    "        print(f'Then you should go to {Decoding[city]}')"
   ]
  },
  {
   "attachments": {},
   "cell_type": "markdown",
   "id": "24a4eb46-4ed8-4c35-b44d-a0a27661e114",
   "metadata": {},
   "source": [
    "Goal:\n",
    "\n",
    "You have run a correct EA if you are able to get the fitness function below 13.000 km traveled.\n",
    "\n",
    "Try to see if your algorithm is able to find such a solution after the amount of generations that is given."
   ]
  }
 ],
 "metadata": {
  "interpreter": {
   "hash": "aee8b7b246df8f9039afb4144a1f6fd8d2ca17a180786b69acc140d282b71a49"
  },
  "kernelspec": {
   "display_name": "Python 3 (ipykernel)",
   "language": "python",
   "name": "python3"
  },
  "language_info": {
   "codemirror_mode": {
    "name": "ipython",
    "version": 3
   },
   "file_extension": ".py",
   "mimetype": "text/x-python",
   "name": "python",
   "nbconvert_exporter": "python",
   "pygments_lexer": "ipython3",
   "version": "3.11.2"
  }
 },
 "nbformat": 4,
 "nbformat_minor": 5
}
